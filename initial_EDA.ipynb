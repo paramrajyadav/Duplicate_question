{
 "cells": [
  {
   "cell_type": "code",
   "execution_count": 18,
   "id": "600ccbe8",
   "metadata": {},
   "outputs": [],
   "source": [
    "import numpy as np\n",
    "import pandas as pd\n",
    "import seaborn as sns\n",
    "import matplotlib.pyplot as plt"
   ]
  },
  {
   "cell_type": "code",
   "execution_count": 19,
   "id": "60425156",
   "metadata": {},
   "outputs": [
    {
     "data": {
      "text/plain": [
       "(404351, 6)"
      ]
     },
     "execution_count": 19,
     "metadata": {},
     "output_type": "execute_result"
    }
   ],
   "source": [
    "df = pd.read_csv(\"questions.csv\")\n",
    "df.shape"
   ]
  },
  {
   "cell_type": "code",
   "execution_count": 20,
   "id": "5a3d86b9",
   "metadata": {},
   "outputs": [
    {
     "data": {
      "text/html": [
       "<div>\n",
       "<style scoped>\n",
       "    .dataframe tbody tr th:only-of-type {\n",
       "        vertical-align: middle;\n",
       "    }\n",
       "\n",
       "    .dataframe tbody tr th {\n",
       "        vertical-align: top;\n",
       "    }\n",
       "\n",
       "    .dataframe thead th {\n",
       "        text-align: right;\n",
       "    }\n",
       "</style>\n",
       "<table border=\"1\" class=\"dataframe\">\n",
       "  <thead>\n",
       "    <tr style=\"text-align: right;\">\n",
       "      <th></th>\n",
       "      <th>id</th>\n",
       "      <th>qid1</th>\n",
       "      <th>qid2</th>\n",
       "      <th>question1</th>\n",
       "      <th>question2</th>\n",
       "      <th>is_duplicate</th>\n",
       "    </tr>\n",
       "  </thead>\n",
       "  <tbody>\n",
       "    <tr>\n",
       "      <th>303385</th>\n",
       "      <td>303385</td>\n",
       "      <td>595751</td>\n",
       "      <td>595752</td>\n",
       "      <td>Which Indian colleges admit students on the ba...</td>\n",
       "      <td>Do colleges keep SAT/ACT scores and high schoo...</td>\n",
       "      <td>0</td>\n",
       "    </tr>\n",
       "    <tr>\n",
       "      <th>110875</th>\n",
       "      <td>110875</td>\n",
       "      <td>219864</td>\n",
       "      <td>219865</td>\n",
       "      <td>What does destiny mean in Judaism?</td>\n",
       "      <td>What does it mean to follow ones destiny and w...</td>\n",
       "      <td>0</td>\n",
       "    </tr>\n",
       "    <tr>\n",
       "      <th>337681</th>\n",
       "      <td>337681</td>\n",
       "      <td>662009</td>\n",
       "      <td>662010</td>\n",
       "      <td>Phasor diagram of transformer on load?</td>\n",
       "      <td>Is a transformer an inductive or capacitive load?</td>\n",
       "      <td>0</td>\n",
       "    </tr>\n",
       "    <tr>\n",
       "      <th>177640</th>\n",
       "      <td>177640</td>\n",
       "      <td>350903</td>\n",
       "      <td>350904</td>\n",
       "      <td>How do I create an internet radio in PHP?</td>\n",
       "      <td>How do I create Internet radio in Android?</td>\n",
       "      <td>0</td>\n",
       "    </tr>\n",
       "    <tr>\n",
       "      <th>115420</th>\n",
       "      <td>115420</td>\n",
       "      <td>228799</td>\n",
       "      <td>228800</td>\n",
       "      <td>What is the function point estimation techniqu...</td>\n",
       "      <td>What are some rapping techniques I can use?</td>\n",
       "      <td>0</td>\n",
       "    </tr>\n",
       "    <tr>\n",
       "      <th>105105</th>\n",
       "      <td>105105</td>\n",
       "      <td>208479</td>\n",
       "      <td>208480</td>\n",
       "      <td>How does world economy work?</td>\n",
       "      <td>How does the world economy work?</td>\n",
       "      <td>1</td>\n",
       "    </tr>\n",
       "    <tr>\n",
       "      <th>373404</th>\n",
       "      <td>373404</td>\n",
       "      <td>730595</td>\n",
       "      <td>730596</td>\n",
       "      <td>What are the functions of nuchal lines?</td>\n",
       "      <td>What are the functions of cartilage?</td>\n",
       "      <td>0</td>\n",
       "    </tr>\n",
       "    <tr>\n",
       "      <th>338017</th>\n",
       "      <td>338017</td>\n",
       "      <td>662652</td>\n",
       "      <td>662653</td>\n",
       "      <td>What is the importance of starter and choke in...</td>\n",
       "      <td>What is the Use of choke and starter in a tube...</td>\n",
       "      <td>1</td>\n",
       "    </tr>\n",
       "    <tr>\n",
       "      <th>379663</th>\n",
       "      <td>379663</td>\n",
       "      <td>742568</td>\n",
       "      <td>742569</td>\n",
       "      <td>Whether for measuring blood pressure electroni...</td>\n",
       "      <td>Benefits of Johnson Controls employee in INDIA?</td>\n",
       "      <td>0</td>\n",
       "    </tr>\n",
       "    <tr>\n",
       "      <th>367432</th>\n",
       "      <td>367432</td>\n",
       "      <td>719136</td>\n",
       "      <td>16167</td>\n",
       "      <td>When will NASA go to the stars?</td>\n",
       "      <td>What is likely going to happen to the LucasArt...</td>\n",
       "      <td>0</td>\n",
       "    </tr>\n",
       "  </tbody>\n",
       "</table>\n",
       "</div>"
      ],
      "text/plain": [
       "            id    qid1    qid2  \\\n",
       "303385  303385  595751  595752   \n",
       "110875  110875  219864  219865   \n",
       "337681  337681  662009  662010   \n",
       "177640  177640  350903  350904   \n",
       "115420  115420  228799  228800   \n",
       "105105  105105  208479  208480   \n",
       "373404  373404  730595  730596   \n",
       "338017  338017  662652  662653   \n",
       "379663  379663  742568  742569   \n",
       "367432  367432  719136   16167   \n",
       "\n",
       "                                                question1  \\\n",
       "303385  Which Indian colleges admit students on the ba...   \n",
       "110875                 What does destiny mean in Judaism?   \n",
       "337681             Phasor diagram of transformer on load?   \n",
       "177640          How do I create an internet radio in PHP?   \n",
       "115420  What is the function point estimation techniqu...   \n",
       "105105                       How does world economy work?   \n",
       "373404            What are the functions of nuchal lines?   \n",
       "338017  What is the importance of starter and choke in...   \n",
       "379663  Whether for measuring blood pressure electroni...   \n",
       "367432                    When will NASA go to the stars?   \n",
       "\n",
       "                                                question2  is_duplicate  \n",
       "303385  Do colleges keep SAT/ACT scores and high schoo...             0  \n",
       "110875  What does it mean to follow ones destiny and w...             0  \n",
       "337681  Is a transformer an inductive or capacitive load?             0  \n",
       "177640         How do I create Internet radio in Android?             0  \n",
       "115420        What are some rapping techniques I can use?             0  \n",
       "105105                   How does the world economy work?             1  \n",
       "373404               What are the functions of cartilage?             0  \n",
       "338017  What is the Use of choke and starter in a tube...             1  \n",
       "379663    Benefits of Johnson Controls employee in INDIA?             0  \n",
       "367432  What is likely going to happen to the LucasArt...             0  "
      ]
     },
     "execution_count": 20,
     "metadata": {},
     "output_type": "execute_result"
    }
   ],
   "source": [
    "df.sample(10)"
   ]
  },
  {
   "cell_type": "code",
   "execution_count": 21,
   "id": "37b00141",
   "metadata": {},
   "outputs": [
    {
     "name": "stdout",
     "output_type": "stream",
     "text": [
      "<class 'pandas.core.frame.DataFrame'>\n",
      "RangeIndex: 404351 entries, 0 to 404350\n",
      "Data columns (total 6 columns):\n",
      " #   Column        Non-Null Count   Dtype \n",
      "---  ------        --------------   ----- \n",
      " 0   id            404351 non-null  int64 \n",
      " 1   qid1          404351 non-null  int64 \n",
      " 2   qid2          404351 non-null  int64 \n",
      " 3   question1     404350 non-null  object\n",
      " 4   question2     404349 non-null  object\n",
      " 5   is_duplicate  404351 non-null  int64 \n",
      "dtypes: int64(4), object(2)\n",
      "memory usage: 18.5+ MB\n"
     ]
    }
   ],
   "source": [
    "df.info()"
   ]
  },
  {
   "cell_type": "code",
   "execution_count": 22,
   "id": "c5b82789",
   "metadata": {},
   "outputs": [
    {
     "data": {
      "text/plain": [
       "id              0\n",
       "qid1            0\n",
       "qid2            0\n",
       "question1       1\n",
       "question2       2\n",
       "is_duplicate    0\n",
       "dtype: int64"
      ]
     },
     "execution_count": 22,
     "metadata": {},
     "output_type": "execute_result"
    }
   ],
   "source": [
    "# missing values\n",
    "df.isnull().sum()"
   ]
  },
  {
   "cell_type": "code",
   "execution_count": 23,
   "id": "e704abaf",
   "metadata": {},
   "outputs": [
    {
     "data": {
      "text/plain": [
       "0"
      ]
     },
     "execution_count": 23,
     "metadata": {},
     "output_type": "execute_result"
    }
   ],
   "source": [
    "# duplicate rows\n",
    "df.duplicated().sum()"
   ]
  },
  {
   "cell_type": "code",
   "execution_count": 24,
   "id": "3f9bd6af",
   "metadata": {},
   "outputs": [
    {
     "name": "stdout",
     "output_type": "stream",
     "text": [
      "0    255045\n",
      "1    149306\n",
      "Name: is_duplicate, dtype: int64\n",
      "0    63.07515\n",
      "1    36.92485\n",
      "Name: is_duplicate, dtype: float64\n"
     ]
    },
    {
     "data": {
      "text/plain": [
       "<Axes: >"
      ]
     },
     "execution_count": 24,
     "metadata": {},
     "output_type": "execute_result"
    },
    {
     "data": {
      "image/png": "[encoded data removed]",
      "text/plain": [
       "<Figure size 640x480 with 1 Axes>"
      ]
     },
     "metadata": {},
     "output_type": "display_data"
    }
   ],
   "source": [
    "# Distribution of duplicate and non-duplicate questions\n",
    "\n",
    "print(df['is_duplicate'].value_counts())\n",
    "print((df['is_duplicate'].value_counts()/df['is_duplicate'].count())*100)\n",
    "df['is_duplicate'].value_counts().plot(kind='bar')"
   ]
  },
  {
   "cell_type": "code",
   "execution_count": 25,
   "id": "788d2d08",
   "metadata": {},
   "outputs": [
    {
     "name": "stdout",
     "output_type": "stream",
     "text": [
      "Number of unique questions 789801\n",
      "Number of questions getting repeated 13698\n"
     ]
    }
   ],
   "source": [
    "# Repeated questions\n",
    "\n",
    "qid = pd.Series(df['qid1'].tolist() + df['qid2'].tolist())\n",
    "print('Number of unique questions',np.unique(qid).shape[0])\n",
    "x = qid.value_counts()>1\n",
    "print('Number of questions getting repeated',x[x].shape[0])"
   ]
  },
  {
   "cell_type": "code",
   "execution_count": 20,
   "id": "2fa5bb83",
   "metadata": {},
   "outputs": [
    {
     "data": {
      "image/png": "[encoded data removed]",
      "text/plain": [
       "<Figure size 432x288 with 1 Axes>"
      ]
     },
     "metadata": {
      "needs_background": "light"
     },
     "output_type": "display_data"
    }
   ],
   "source": [
    "# Repeated questions histogram\n",
    "\n",
    "plt.hist(qid.value_counts().values,bins=160)\n",
    "plt.yscale('log')\n",
    "plt.show()"
   ]
  },
  {
   "cell_type": "code",
   "execution_count": null,
   "id": "f9573e2f",
   "metadata": {},
   "outputs": [],
   "source": []
  }
 ],
 "metadata": {
  "kernelspec": {
   "display_name": "Python 3 (ipykernel)",
   "language": "python",
   "name": "python3"
  },
  "language_info": {
   "codemirror_mode": {
    "name": "ipython",
    "version": 3
   },
   "file_extension": ".py",
   "mimetype": "text/x-python",
   "name": "python",
   "nbconvert_exporter": "python",
   "pygments_lexer": "ipython3",
   "version": "3.10.9"
  }
 },
 "nbformat": 4,
 "nbformat_minor": 5
}
